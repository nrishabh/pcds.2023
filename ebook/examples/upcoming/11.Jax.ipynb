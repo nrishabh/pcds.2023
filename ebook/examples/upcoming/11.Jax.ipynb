{
 "cells": [
  {
   "cell_type": "markdown",
   "id": "184a7195-3a54-4e32-b975-f8003ad793ac",
   "metadata": {},
   "source": [
    "### JAX\n",
    "\n"
   ]
  },
  {
   "cell_type": "code",
   "execution_count": 101,
   "id": "f06c03ea-c302-4b9c-93dd-48a16a810f77",
   "metadata": {
    "tags": []
   },
   "outputs": [
    {
     "name": "stdout",
     "output_type": "stream",
     "text": [
      "[-0.3721109   0.26423115 -0.18252768 -0.7368197  -0.44030377 -0.1521442\n",
      " -0.67135346 -0.5908641   0.73168886  0.5673026 ]\n"
     ]
    }
   ],
   "source": [
    "import jax.numpy as jnp\n",
    "from jax import grad, jit, vmap\n",
    "from jax import random\n",
    "\n",
    "key = random.PRNGKey(0)\n",
    "x = random.normal(key, (10,))\n",
    "print(x)"
   ]
  },
  {
   "cell_type": "code",
   "execution_count": 102,
   "id": "6ba3ccdc-0a80-4950-9eb4-5e6a23bc72a3",
   "metadata": {
    "tags": []
   },
   "outputs": [
    {
     "name": "stdout",
     "output_type": "stream",
     "text": [
      "135 ms ± 428 µs per loop (mean ± std. dev. of 7 runs, 10 loops each)\n"
     ]
    }
   ],
   "source": [
    "size = 3000\n",
    "x = random.normal(key, (size, size), dtype=jnp.float32)\n",
    "%timeit jnp.dot(x, x.T).block_until_ready()  # runs on the GPU"
   ]
  },
  {
   "cell_type": "markdown",
   "id": "b1c350c0-0b98-4d9c-915e-0de7e91c0697",
   "metadata": {},
   "source": [
    "#### Averaging Stencil\n"
   ]
  },
  {
   "cell_type": "code",
   "execution_count": 83,
   "id": "5e8e2d20-fd5d-4aad-a4a6-298edd14e918",
   "metadata": {
    "tags": []
   },
   "outputs": [
    {
     "name": "stdout",
     "output_type": "stream",
     "text": [
      "[-1, 0, 1]\n"
     ]
    }
   ],
   "source": [
    "print([i for i in range(-1,2)])"
   ]
  },
  {
   "cell_type": "code",
   "execution_count": 92,
   "id": "11f1996f-32bd-486c-b9b4-37e524a9acd2",
   "metadata": {
    "tags": []
   },
   "outputs": [],
   "source": [
    "import numpy as np\n",
    "\n",
    "DIM = 24\n",
    "SHWIDTH = 5\n",
    "input_ar = np.random.rand(DIM,DIM)\n",
    "output_ar = np.zeros([DIM,DIM],dtype=np.float64)"
   ]
  },
  {
   "cell_type": "code",
   "execution_count": 88,
   "id": "a1053d0a-0a9a-4f0c-971c-95d24ff92e87",
   "metadata": {
    "tags": []
   },
   "outputs": [],
   "source": [
    "for x in range(SHWIDTH, DIM-SHWIDTH):\n",
    "    for y in range(SHWIDTH, DIM-SHWIDTH):\n",
    "        partial = 0.0\n",
    "        for xs in range (-1*SHWIDTH, SHWIDTH+1):\n",
    "            for ys in range (-1*SHWIDTH, SHWIDTH+1):\n",
    "                    partial += input_ar[x+xs,y+ys]         \n",
    "            output_ar[x,y] = partial/((2*SHWIDTH+1)*(2*SHWIDTH+1));"
   ]
  },
  {
   "cell_type": "code",
   "execution_count": 100,
   "id": "fa4b098c-bdfe-4c58-9b82-37aadcb2c3f1",
   "metadata": {
    "tags": []
   },
   "outputs": [
    {
     "ename": "AttributeError",
     "evalue": "'NoneType' object has no attribute 'block_until_ready'",
     "output_type": "error",
     "traceback": [
      "\u001b[0;31m---------------------------------------------------------------------------\u001b[0m",
      "\u001b[0;31mAttributeError\u001b[0m                            Traceback (most recent call last)",
      "Cell \u001b[0;32mIn[100], line 21\u001b[0m\n\u001b[1;32m     17\u001b[0m             output_ar\u001b[38;5;241m.\u001b[39mat[x,y]\u001b[38;5;241m.\u001b[39mset(partial\u001b[38;5;241m/\u001b[39m((\u001b[38;5;241m2\u001b[39m\u001b[38;5;241m*\u001b[39mSHWIDTH\u001b[38;5;241m+\u001b[39m\u001b[38;5;241m1\u001b[39m)\u001b[38;5;241m*\u001b[39m(\u001b[38;5;241m2\u001b[39m\u001b[38;5;241m*\u001b[39mSHWIDTH\u001b[38;5;241m+\u001b[39m\u001b[38;5;241m1\u001b[39m)));\n\u001b[1;32m     19\u001b[0m loops_jit \u001b[38;5;241m=\u001b[39m jit(loops)\n\u001b[0;32m---> 21\u001b[0m \u001b[43mloops_jit\u001b[49m\u001b[43m(\u001b[49m\u001b[43minput_ar\u001b[49m\u001b[43m,\u001b[49m\u001b[43m \u001b[49m\u001b[43moutput_ar\u001b[49m\u001b[43m,\u001b[49m\u001b[43m \u001b[49m\u001b[43mSWIDTH\u001b[49m\u001b[43m)\u001b[49m\u001b[38;5;241;43m.\u001b[39;49m\u001b[43mblock_until_ready\u001b[49m()\n",
      "\u001b[0;31mAttributeError\u001b[0m: 'NoneType' object has no attribute 'block_until_ready'"
     ]
    }
   ],
   "source": [
    "import jax.numpy as jnp\n",
    "from jax import jit, vmap\n",
    "from jax import random\n",
    "\n",
    "key = random.PRNGKey(0)\n",
    "input_ar = random.normal(key, (DIM,DIM))\n",
    "\n",
    "output_ar = jnp.zeros([DIM,DIM],dtype=jnp.float32)\n",
    "\n",
    "def loops(input_ar, output_ar, SWIDTH):\n",
    "    for x in range(SHWIDTH, DIM-SHWIDTH):\n",
    "        for y in range(SHWIDTH, DIM-SHWIDTH):\n",
    "            partial=0.0\n",
    "            for xs in range (-1*SHWIDTH, SHWIDTH+1):\n",
    "                for ys in range (-1*SHWIDTH, SHWIDTH+1):\n",
    "                    partial += input_ar[x+xs,y+ys]         \n",
    "            output_ar.at[x,y].set(partial/((2*SHWIDTH+1)*(2*SHWIDTH+1)));\n",
    "            \n",
    "loops_jit = jit(loops)\n",
    "\n",
    "loops_jit(input_ar, output_ar, SWIDTH)"
   ]
  },
  {
   "cell_type": "code",
   "execution_count": 99,
   "id": "1057796f-bb42-47de-98ac-0a66216475c4",
   "metadata": {
    "tags": []
   },
   "outputs": [
    {
     "ename": "AttributeError",
     "evalue": "'NoneType' object has no attribute 'block_until_ready'",
     "output_type": "error",
     "traceback": [
      "\u001b[0;31m---------------------------------------------------------------------------\u001b[0m",
      "\u001b[0;31mAttributeError\u001b[0m                            Traceback (most recent call last)",
      "Cell \u001b[0;32mIn[99], line 1\u001b[0m\n\u001b[0;32m----> 1\u001b[0m \u001b[43mget_ipython\u001b[49m\u001b[43m(\u001b[49m\u001b[43m)\u001b[49m\u001b[38;5;241;43m.\u001b[39;49m\u001b[43mrun_cell_magic\u001b[49m\u001b[43m(\u001b[49m\u001b[38;5;124;43m'\u001b[39;49m\u001b[38;5;124;43mtimeit\u001b[39;49m\u001b[38;5;124;43m'\u001b[39;49m\u001b[43m,\u001b[49m\u001b[43m \u001b[49m\u001b[38;5;124;43m'\u001b[39;49m\u001b[38;5;124;43m'\u001b[39;49m\u001b[43m,\u001b[49m\u001b[43m \u001b[49m\u001b[38;5;124;43m'\u001b[39;49m\u001b[38;5;124;43mloops_jit(input_ar, output_ar, SWIDTH).block_until_ready()\u001b[39;49m\u001b[38;5;130;43;01m\\n\u001b[39;49;00m\u001b[38;5;124;43m'\u001b[39;49m\u001b[43m)\u001b[49m\n",
      "File \u001b[0;32m/opt/conda/lib/python3.10/site-packages/IPython/core/interactiveshell.py:2430\u001b[0m, in \u001b[0;36mInteractiveShell.run_cell_magic\u001b[0;34m(self, magic_name, line, cell)\u001b[0m\n\u001b[1;32m   2428\u001b[0m \u001b[38;5;28;01mwith\u001b[39;00m \u001b[38;5;28mself\u001b[39m\u001b[38;5;241m.\u001b[39mbuiltin_trap:\n\u001b[1;32m   2429\u001b[0m     args \u001b[38;5;241m=\u001b[39m (magic_arg_s, cell)\n\u001b[0;32m-> 2430\u001b[0m     result \u001b[38;5;241m=\u001b[39m \u001b[43mfn\u001b[49m\u001b[43m(\u001b[49m\u001b[38;5;241;43m*\u001b[39;49m\u001b[43margs\u001b[49m\u001b[43m,\u001b[49m\u001b[43m \u001b[49m\u001b[38;5;241;43m*\u001b[39;49m\u001b[38;5;241;43m*\u001b[39;49m\u001b[43mkwargs\u001b[49m\u001b[43m)\u001b[49m\n\u001b[1;32m   2432\u001b[0m \u001b[38;5;66;03m# The code below prevents the output from being displayed\u001b[39;00m\n\u001b[1;32m   2433\u001b[0m \u001b[38;5;66;03m# when using magics with decodator @output_can_be_silenced\u001b[39;00m\n\u001b[1;32m   2434\u001b[0m \u001b[38;5;66;03m# when the last Python token in the expression is a ';'.\u001b[39;00m\n\u001b[1;32m   2435\u001b[0m \u001b[38;5;28;01mif\u001b[39;00m \u001b[38;5;28mgetattr\u001b[39m(fn, magic\u001b[38;5;241m.\u001b[39mMAGIC_OUTPUT_CAN_BE_SILENCED, \u001b[38;5;28;01mFalse\u001b[39;00m):\n",
      "File \u001b[0;32m/opt/conda/lib/python3.10/site-packages/IPython/core/magics/execution.py:1163\u001b[0m, in \u001b[0;36mExecutionMagics.timeit\u001b[0;34m(self, line, cell, local_ns)\u001b[0m\n\u001b[1;32m   1161\u001b[0m \u001b[38;5;28;01mfor\u001b[39;00m index \u001b[38;5;129;01min\u001b[39;00m \u001b[38;5;28mrange\u001b[39m(\u001b[38;5;241m0\u001b[39m, \u001b[38;5;241m10\u001b[39m):\n\u001b[1;32m   1162\u001b[0m     number \u001b[38;5;241m=\u001b[39m \u001b[38;5;241m10\u001b[39m \u001b[38;5;241m*\u001b[39m\u001b[38;5;241m*\u001b[39m index\n\u001b[0;32m-> 1163\u001b[0m     time_number \u001b[38;5;241m=\u001b[39m \u001b[43mtimer\u001b[49m\u001b[38;5;241;43m.\u001b[39;49m\u001b[43mtimeit\u001b[49m\u001b[43m(\u001b[49m\u001b[43mnumber\u001b[49m\u001b[43m)\u001b[49m\n\u001b[1;32m   1164\u001b[0m     \u001b[38;5;28;01mif\u001b[39;00m time_number \u001b[38;5;241m>\u001b[39m\u001b[38;5;241m=\u001b[39m \u001b[38;5;241m0.2\u001b[39m:\n\u001b[1;32m   1165\u001b[0m         \u001b[38;5;28;01mbreak\u001b[39;00m\n",
      "File \u001b[0;32m/opt/conda/lib/python3.10/site-packages/IPython/core/magics/execution.py:157\u001b[0m, in \u001b[0;36mTimer.timeit\u001b[0;34m(self, number)\u001b[0m\n\u001b[1;32m    155\u001b[0m gc\u001b[38;5;241m.\u001b[39mdisable()\n\u001b[1;32m    156\u001b[0m \u001b[38;5;28;01mtry\u001b[39;00m:\n\u001b[0;32m--> 157\u001b[0m     timing \u001b[38;5;241m=\u001b[39m \u001b[38;5;28;43mself\u001b[39;49m\u001b[38;5;241;43m.\u001b[39;49m\u001b[43minner\u001b[49m\u001b[43m(\u001b[49m\u001b[43mit\u001b[49m\u001b[43m,\u001b[49m\u001b[43m \u001b[49m\u001b[38;5;28;43mself\u001b[39;49m\u001b[38;5;241;43m.\u001b[39;49m\u001b[43mtimer\u001b[49m\u001b[43m)\u001b[49m\n\u001b[1;32m    158\u001b[0m \u001b[38;5;28;01mfinally\u001b[39;00m:\n\u001b[1;32m    159\u001b[0m     \u001b[38;5;28;01mif\u001b[39;00m gcold:\n",
      "File \u001b[0;32m<magic-timeit>:1\u001b[0m, in \u001b[0;36minner\u001b[0;34m(_it, _timer)\u001b[0m\n",
      "\u001b[0;31mAttributeError\u001b[0m: 'NoneType' object has no attribute 'block_until_ready'"
     ]
    }
   ],
   "source": [
    "%%timeit\n",
    "loops_jit(input_ar, output_ar, SWIDTH).block_until_ready()"
   ]
  },
  {
   "cell_type": "code",
   "execution_count": 98,
   "id": "2ca71449-75d0-4b9c-a3f7-66bfb205dff9",
   "metadata": {
    "tags": []
   },
   "outputs": [
    {
     "name": "stdout",
     "output_type": "stream",
     "text": [
      "9.29 s ± 42.5 ms per loop (mean ± std. dev. of 7 runs, 1 loop each)\n"
     ]
    }
   ],
   "source": [
    "%%timeit\n",
    "loops(input_ar, output_ar, SWIDTH)"
   ]
  },
  {
   "cell_type": "code",
   "execution_count": 3,
   "id": "72edd3ac-2ea7-4539-9daa-c8a29454d5d2",
   "metadata": {
    "tags": []
   },
   "outputs": [
    {
     "data": {
      "text/plain": [
       "array([[0., 2., 1., 2., 3.],\n",
       "       [0., 0., 1., 2., 3.],\n",
       "       [0., 0., 0., 0., 1.],\n",
       "       [0., 0., 0., 0., 3.],\n",
       "       [0., 0., 0., 0., 0.]])"
      ]
     },
     "execution_count": 3,
     "metadata": {},
     "output_type": "execute_result"
    }
   ],
   "source": [
    "gmat = nx.to_numpy_matrix(G)\n",
    "\n",
    "outmat = np.zeros(gmat.shape)\n",
    "\n",
    "for i in range(gmat.shape[0]):\n",
    "    for j in range(i+1,gmat.shape[1]):        \n",
    "        outmat[i,j] = np.dot(np.asarray(gmat[i,:]).reshape(-1), np.asarray(gmat[j,:]).reshape(-1))\n",
    "outmat"
   ]
  },
  {
   "cell_type": "code",
   "execution_count": null,
   "id": "3e289cad-7e4f-4a28-a099-044f6705c286",
   "metadata": {},
   "outputs": [],
   "source": []
  },
  {
   "cell_type": "markdown",
   "id": "1bfe8c69-6f42-4b2c-ad10-837f6f59f375",
   "metadata": {},
   "source": [
    "Now generate a big graph and we'll start our performance analysis. Let's look at a serial version on a graph with 1000 nodes and about 5 outbound edges per node. \n",
    "\n",
    "Serial program to calculate mutual outlinks."
   ]
  },
  {
   "cell_type": "code",
   "execution_count": 34,
   "id": "c2d0c01a-c72b-40bb-95b3-d378cd84cc17",
   "metadata": {
    "tags": []
   },
   "outputs": [
    {
     "data": {
      "text/plain": [
       "9881"
      ]
     },
     "execution_count": 34,
     "metadata": {},
     "output_type": "execute_result"
    },
    {
     "data": {
      "image/png": "[encoded data removed]",
      "text/plain": [
       "<Figure size 640x480 with 1 Axes>"
      ]
     },
     "metadata": {},
     "output_type": "display_data"
    }
   ],
   "source": [
    "# cycles disappear when p = log(n)/n\n",
    "G= nx.erdos_renyi_graph(1000,0.01,directed=True)\n",
    "nx.draw_networkx(G, pos=nx.spring_layout(G), with_labels=False, node_size=10)\n",
    "G.number_of_edges()"
   ]
  },
  {
   "cell_type": "code",
   "execution_count": 35,
   "id": "074ae760-a2b4-4bdb-94f2-419eeed3f9a2",
   "metadata": {
    "tags": []
   },
   "outputs": [
    {
     "data": {
      "text/plain": [
       "46674"
      ]
     },
     "execution_count": 35,
     "metadata": {},
     "output_type": "execute_result"
    }
   ],
   "source": [
    "import numpy as np\n",
    "\n",
    "gmat = nx.to_numpy_matrix(G)\n",
    "\n",
    "outmat = np.zeros(gmat.shape)\n",
    "\n",
    "for i in range(gmat.shape[0]):\n",
    "    for j in range(i+1,gmat.shape[1]):        \n",
    "        outmat[i,j] = np.dot(np.asarray(gmat[i,:]).reshape(-1), np.asarray(gmat[j,:]).reshape(-1))\n",
    "        \n",
    "np.count_nonzero(outmat)"
   ]
  },
  {
   "cell_type": "code",
   "execution_count": 36,
   "id": "83283a87-e7a0-4cb1-b218-d288e1627a6c",
   "metadata": {
    "tags": []
   },
   "outputs": [
    {
     "name": "stdout",
     "output_type": "stream",
     "text": [
      "3.01 s ± 8.96 ms per loop (mean ± std. dev. of 7 runs, 1 loop each)\n"
     ]
    }
   ],
   "source": [
    "%%timeit\n",
    "for i in range(gmat.shape[0]):\n",
    "    for j in range(i+1,gmat.shape[1]):        \n",
    "        outmat[i,j] = np.dot(np.asarray(gmat[i,:]).reshape(-1), np.asarray(gmat[j,:]).reshape(-1))"
   ]
  },
  {
   "cell_type": "markdown",
   "id": "61d95355-4aa5-43c6-bc5d-572d09766c32",
   "metadata": {},
   "source": [
    "That's again our serial implementation. Let's see what JAX can do.\n",
    "How about a list comprehension version."
   ]
  },
  {
   "cell_type": "code",
   "execution_count": 37,
   "id": "a5f6b82b-139f-4687-98ea-8b34768be4b6",
   "metadata": {
    "tags": []
   },
   "outputs": [
    {
     "data": {
      "text/plain": [
       "46674"
      ]
     },
     "execution_count": 37,
     "metadata": {},
     "output_type": "execute_result"
    }
   ],
   "source": [
    "npd = lambda x, y : np.dot(np.asarray(gmat[x,:]).reshape(-1), np.asarray(gmat[y,:]).reshape(-1))\n",
    "        \n",
    "outmat = [ npd(i,j) for i in range(gmat.shape[0]) for j in range(i+1,gmat.shape[1]) ] \n",
    "\n",
    "np.count_nonzero(outmat)"
   ]
  },
  {
   "cell_type": "code",
   "execution_count": 38,
   "id": "c982ad83-9c37-40d0-9a9f-841202ef6eae",
   "metadata": {
    "tags": []
   },
   "outputs": [
    {
     "name": "stdout",
     "output_type": "stream",
     "text": [
      "3.02 s ± 33.5 ms per loop (mean ± std. dev. of 7 runs, 1 loop each)\n"
     ]
    }
   ],
   "source": [
    "%%timeit\n",
    "outmat2 = [ npd(i,j) for i in range(gmat.shape[0]) for j in range(i+1,gmat.shape[1]) ] "
   ]
  },
  {
   "cell_type": "markdown",
   "id": "087251e6-f2f9-41bd-a0b4-5d0537c839e7",
   "metadata": {},
   "source": [
    "#### JAX -- Jit\n",
    "\n",
    "First simple conversion.  This copies the Jax immutable array.  Gonna be slow."
   ]
  },
  {
   "cell_type": "code",
   "execution_count": 28,
   "id": "97b2655b-d39c-48bd-a4d5-614cf7e176b6",
   "metadata": {
    "tags": []
   },
   "outputs": [
    {
     "data": {
      "text/plain": [
       "9"
      ]
     },
     "execution_count": 28,
     "metadata": {},
     "output_type": "execute_result"
    }
   ],
   "source": [
    "import jax.numpy as jnp\n",
    "\n",
    "gmat = jnp.asarray(nx.to_numpy_matrix(G))\n",
    "\n",
    "outmat = jnp.zeros(gmat.shape)\n",
    "\n",
    "for i in range(gmat.shape[0]):\n",
    "    for j in range(i+1,gmat.shape[1]):\n",
    "        outmat = outmat.at[i,j].set(jnp.dot(jnp.asarray(gmat[i,:]).reshape(-1), jnp.asarray(gmat[j,:]).reshape(-1)))\n",
    "\n",
    "np.count_nonzero(outmat)"
   ]
  },
  {
   "cell_type": "code",
   "execution_count": 29,
   "id": "0712a432-3c88-41af-9efb-481f58aa20d4",
   "metadata": {
    "tags": []
   },
   "outputs": [
    {
     "name": "stdout",
     "output_type": "stream",
     "text": [
      "11.9 ms ± 176 µs per loop (mean ± std. dev. of 7 runs, 100 loops each)\n"
     ]
    }
   ],
   "source": [
    "%%timeit\n",
    "outmat = jnp.zeros(gmat.shape)\n",
    "for i in range(gmat.shape[0]):\n",
    "    for j in range(i+1,gmat.shape[1]):\n",
    "        outmat = outmat.at[i,j].set(jnp.dot(jnp.asarray(gmat[i,:]).reshape(-1), jnp.asarray(gmat[j,:]).reshape(-1)))"
   ]
  },
  {
   "cell_type": "code",
   "execution_count": null,
   "id": "4c970546-3330-4035-9734-1a72b7bb9770",
   "metadata": {},
   "outputs": [],
   "source": [
    "Do it in a list comprehension."
   ]
  },
  {
   "cell_type": "code",
   "execution_count": 39,
   "id": "12f48f86-9808-4056-b0b8-ec4915940eed",
   "metadata": {
    "tags": []
   },
   "outputs": [
    {
     "data": {
      "text/plain": [
       "46674"
      ]
     },
     "execution_count": 39,
     "metadata": {},
     "output_type": "execute_result"
    }
   ],
   "source": [
    "gmat = jnp.asarray(nx.to_numpy_matrix(G))\n",
    "jnpd = lambda x, y : jnp.dot(np.asarray(gmat[x,:]).reshape(-1), jnp.asarray(gmat[y,:]).reshape(-1))\n",
    "        \n",
    "outmat = [ jnpd(i,j) for i in range(gmat.shape[0]) for j in range(i+1,gmat.shape[1]) ] \n",
    "\n",
    "np.count_nonzero(outmat)"
   ]
  },
  {
   "cell_type": "code",
   "execution_count": 31,
   "id": "74d8cdf1-1577-47f9-b554-100a95454788",
   "metadata": {
    "tags": []
   },
   "outputs": [
    {
     "name": "stdout",
     "output_type": "stream",
     "text": [
      "5.47 ms ± 90.6 µs per loop (mean ± std. dev. of 7 runs, 100 loops each)\n"
     ]
    }
   ],
   "source": [
    "%%timeit\n",
    "outmat = [ jnpd(i,j) for i in range(gmat.shape[0]) for j in range(i+1,gmat.shape[1]) ] "
   ]
  },
  {
   "cell_type": "code",
   "execution_count": null,
   "id": "c663ce8c-6499-4b9a-9446-1153a5290971",
   "metadata": {},
   "outputs": [],
   "source": [
    "Is it the copy?"
   ]
  },
  {
   "cell_type": "code",
   "execution_count": 33,
   "id": "64d76960-2025-42bd-a9c9-6cb7d1eaf8d2",
   "metadata": {
    "tags": []
   },
   "outputs": [
    {
     "name": "stdout",
     "output_type": "stream",
     "text": [
      "5.59 ms ± 214 µs per loop (mean ± std. dev. of 7 runs, 100 loops each)\n"
     ]
    }
   ],
   "source": [
    "%%timeit\n",
    "[ jnpd(i,j) for i in range(gmat.shape[0]) for j in range(i+1,gmat.shape[1]) ]"
   ]
  },
  {
   "cell_type": "code",
   "execution_count": 20,
   "id": "07376fb1-cd48-414e-900f-afd471e91454",
   "metadata": {
    "tags": []
   },
   "outputs": [
    {
     "data": {
      "text/plain": [
       "9"
      ]
     },
     "execution_count": 20,
     "metadata": {},
     "output_type": "execute_result"
    }
   ],
   "source": [
    "outmat = np.zeros(gmat.shape)\n",
    "\n",
    "npd = lambda x, y : np.dot(np.asarray(gmat[x,:]).reshape(-1), np.asarray(gmat[y,:]).reshape(-1))\n",
    "      \n",
    "#for i in range(gmat.shape[0]):\n",
    "#    for j in range(i+1,gmat.shape[1]):        \n",
    "outmat = [ npd(i,j) for i in range(gmat.shape[0]) for j in range(i+1,gmat.shape[1]) ] \n",
    "\n",
    "np.count_nonzero(outmat)"
   ]
  },
  {
   "cell_type": "code",
   "execution_count": null,
   "id": "7284c6b1-740a-4770-af14-461fcf147025",
   "metadata": {},
   "outputs": [],
   "source": [
    "import jax.numpy as jnp\n",
    "\n",
    "def comp_inner_loop(i):\n",
    "\n",
    "    partial_out = [ np.dot(np.asarray(gmat[i,:]).reshape(-1), np.asarray(gmat[j,:]).reshape(-1))\n",
    "                     for j in range(i+1,gmat.shape[1])]\n",
    "    for j in range(i+1,gmat.shape[1]):    \n",
    "        partial_out[j] = np.dot(np.asarray(gmat[i,:]).reshape(-1), np.asarray(gmat[j,:]).reshape(-1))  \n",
    "    return partial_out\n",
    "\n",
    "gmat = nx.to_numpy_matrix(G)\n",
    "\n",
    "outmat = jnp.zeros(gmat.shape)\n",
    "\n",
    "def\n",
    "for i in range(gmat.shape[0]):\n",
    "    for j in range(i+1,gmat.shape[1]):\n",
    "        outmat = outmat.at[i,j].set(jnp.dot(jnp.asarray(gmat[i,:]).reshape(-1), jnp.asarray(gmat[j,:]).reshape(-1)))\n",
    "\n",
    "np.count_nonzero(outmat)"
   ]
  },
  {
   "cell_type": "code",
   "execution_count": null,
   "id": "855474fc-c553-415c-b785-e5d121424eab",
   "metadata": {},
   "outputs": [],
   "source": [
    "Jit compile with Jax."
   ]
  },
  {
   "cell_type": "code",
   "execution_count": null,
   "id": "a8fed16b-4fd5-40d3-8497-e1779c7badad",
   "metadata": {},
   "outputs": [],
   "source": [
    "from numba import jit\n",
    "\n",
    "outmat = np.zeros(gmat.shape)\n",
    "\n",
    "@jit(nopython=True)\n",
    "def comp_inner_loop(i):\n",
    "    partial_out = np.zeros(gmat.shape[1])\n",
    "    for j in range(i+1,gmat.shape[1]):    \n",
    "        partial_out[j] = np.dot(np.asarray(gmat[i,:]).reshape(-1), np.asarray(gmat[j,:]).reshape(-1))  \n",
    "    return partial_out\n",
    "    \n",
    "for i in range(gmat.shape[0]):\n",
    "    outmat[i,:] = comp_inner_loop(i)\n",
    "\n",
    "np.count_nonzero(outmat)"
   ]
  },
  {
   "cell_type": "code",
   "execution_count": null,
   "id": "8ccd3eba-fad1-4daf-abde-a144eb70122b",
   "metadata": {},
   "outputs": [],
   "source": [
    "%%timeit\n",
    "for i in range(gmat.shape[0]):\n",
    "    outmat[i,:] = comp_inner_loop(i)"
   ]
  },
  {
   "cell_type": "markdown",
   "id": "4c0cce9c-e979-4d7b-b402-67a626056b16",
   "metadata": {},
   "source": [
    "OK, that is great. Let's try to compile the whole thing."
   ]
  },
  {
   "cell_type": "code",
   "execution_count": null,
   "id": "936b2916-7a94-4a17-91dd-b1589aab2feb",
   "metadata": {},
   "outputs": [],
   "source": [
    "from numba import jit, prange\n",
    "\n",
    "@jit(nopython=True)\n",
    "def comp_inner_loop(i):\n",
    "    partial_out = np.zeros(gmat.shape[1])\n",
    "    for j in range(i+1,gmat.shape[1]):    \n",
    "        partial_out[j] = np.dot(np.asarray(gmat[i,:]).reshape(-1), np.asarray(gmat[j,:]).reshape(-1))  \n",
    "   # print(partial_out)\n",
    "    return partial_out\n",
    "\n",
    "# Gotta be in a function to compile\n",
    "@jit(nopython=True)    \n",
    "def comp_outerloop(outmat):\n",
    "\n",
    "    for i in prange(gmat.shape[0]):\n",
    "        outmat[i,:] = comp_inner_loop(i)\n",
    "\n",
    "\n",
    "outmat = np.zeros(gmat.shape)\n",
    "comp_outerloop(outmat)\n",
    "np.count_nonzero(outmat)"
   ]
  },
  {
   "cell_type": "code",
   "execution_count": null,
   "id": "5c414144-6a27-4b0c-b272-cc6afd493dc8",
   "metadata": {},
   "outputs": [],
   "source": [
    "%%timeit\n",
    "comp_outerloop(outmat)"
   ]
  },
  {
   "cell_type": "markdown",
   "id": "d8fea2a0-d921-41ab-8e20-b19019c0b711",
   "metadata": {},
   "source": [
    "OK that helped some. Not as much. I expect it's a tradeoff between having to move the matrix into the argument list. This is needed because global variables are read-only, i.e. if you try and write to a global outmat it is an error.\n",
    "\n",
    "So, compiling the inner loop is powerful.  How about parallel?"
   ]
  },
  {
   "cell_type": "code",
   "execution_count": null,
   "id": "f57cfee2-2d17-4a0b-b2ff-1da215719c9f",
   "metadata": {},
   "outputs": [],
   "source": [
    "from joblib import Parallel, delayed\n",
    "partials = Parallel(n_jobs=4)(delayed(comp_inner_loop)(i) for i in range(gmat.shape[0]))\n",
    "\n",
    "outmat = np.array(partials)\n",
    "np.count_nonzero(outmat)"
   ]
  },
  {
   "cell_type": "code",
   "execution_count": null,
   "id": "e0a94c82-58f1-4910-9d98-5031f9ad3f36",
   "metadata": {},
   "outputs": [],
   "source": [
    "%%timeit\n",
    "Parallel(n_jobs=4)(delayed(comp_inner_loop)(i) for i in range(gmat.shape[0]))"
   ]
  },
  {
   "cell_type": "markdown",
   "id": "a3161c2e-1e1a-41ee-9f18-ad642cbc8452",
   "metadata": {},
   "source": [
    "That is **SLOWER**!!!  What happened?\n",
    "\n",
    "The creation of the list is in Python and not compiled. So the creation of the delayed work takes longer than compiled code.\n",
    "\n",
    "### Conclusions:\n",
    "\n",
    "  * JIT Compilation is a powerful tool\n",
    "  * JIT can only speed up the code that is compiled \n",
    "  * Parallelizing slow Python may not produce results as good as serial compiled.\n",
    " \n",
    "Amdahl's law applies. Let's take a look at our performance results.\n"
   ]
  },
  {
   "cell_type": "code",
   "execution_count": null,
   "id": "c47cd820-e12b-4ad7-85f3-d1093d5f0486",
   "metadata": {},
   "outputs": [],
   "source": [
    "import pandas as pd\n",
    "\n",
    "# get values from code\n",
    "d = { 'loops': [5610], 'joblib': [3290], 'inner compiled': [132], 'all compiled': [122], 'compiled+joblib' : [1570] }\n",
    "\n",
    "df = pd.DataFrame (data=d)\n",
    "df.head()\n",
    "df.plot.bar()"
   ]
  }
 ],
 "metadata": {
  "kernelspec": {
   "display_name": "Python 3 (ipykernel)",
   "language": "python",
   "name": "python3"
  },
  "language_info": {
   "codemirror_mode": {
    "name": "ipython",
    "version": 3
   },
   "file_extension": ".py",
   "mimetype": "text/x-python",
   "name": "python",
   "nbconvert_exporter": "python",
   "pygments_lexer": "ipython3",
   "version": "3.10.9"
  }
 },
 "nbformat": 4,
 "nbformat_minor": 5
}
