{
 "cells": [
  {
   "cell_type": "markdown",
   "metadata": {},
   "source": [
    "#  Activity 3.0: Vectorization\n",
    "\n",
    "This mini activity is designed to help you get more comfortable with vectorization.  There are 3 total questions in two parts.\n",
    "\n",
    "**Due date**: Thursday October 5th, 2023, 9:00 pm EDT.\n",
    "\n",
    "**Instructions for Submission**: Submit via Gradescope."
   ]
  },
  {
   "cell_type": "markdown",
   "metadata": {},
   "source": [
    "## Part 1: Reading Vectorized Code\n",
    "\n",
    "In this problem you need to read, understand and explain what is going on in a few snippets of code that the compiler generated for the problem we discussed in class.  You will want to look up each instruction to understand what it is doing and what the cost is.\n",
    "\n",
    "The code and assembly can be seen [https://godbolt.org/z/d3oKW4K3E](https://godbolt.org/z/d3oKW4K3E)"
   ]
  },
  {
   "cell_type": "markdown",
   "metadata": {},
   "source": [
    "### Question 1\n",
    "We first look at the loop body \n",
    "\n",
    "```\n",
    ".LBB0_6:\n",
    "        vpcmpeqd        xmm3, xmm1, xmmword ptr [rdi + 4*rax]\n",
    "        vpmovzxdq       ymm3, xmm3              # ymm3 = xmm3[0],zero,xmm3[1],zero,xmm3[2],zero,xmm3[3],zero\n",
    "        vpand   ymm3, ymm3, ymm2\n",
    "        vpaddq  ymm0, ymm0, ymm3\n",
    "        add     rax, 4\n",
    "        cmp     rcx, rax\n",
    "        jne     .LBB0_6\n",
    "```\n",
    "\n",
    "Please explain what this is doing, and how many cycles each iteration of the loop takes.  \n",
    "\n",
    "Your explanation should include what are the inputs (what values are in each register at the beginning), what are the outputs (the values of the registers at the end), and how it is computing this.  Your answer should be complete in that all 7 instructions must be explained.\n"
   ]
  },
  {
   "cell_type": "markdown",
   "metadata": {},
   "source": [
    "### Question 2\n",
    "\n",
    "After the loop\n",
    "\n",
    "```\n",
    "        vextracti128    xmm1, ymm0, 1\n",
    "        vpaddq  xmm0, xmm0, xmm1\n",
    "        vpshufd xmm1, xmm0, 238                 # xmm1 = xmm0[2,3,2,3]\n",
    "        vpaddq  xmm0, xmm0, xmm1\n",
    "        vmovq   rax, xmm0\n",
    "```\n",
    "\n",
    "Please explain what this is doing, and how many cycles it takes.  \n",
    "\n",
    "Once again please include the inputs, outputs, and cost.  You must include an explanation for every instruction and what it is doing."
   ]
  },
  {
   "cell_type": "markdown",
   "metadata": {},
   "source": [
    "## Part 2: Writing Vectorized Code\n",
    "\n",
    "In this part you will tackle a new problem, write some code for it, and then analyze it.  The problem can be found at [http://preview.speedcode.org/ide/index.html?count_pairs](http://preview.speedcode.org/ide/index.html?count_pairs)\n",
    "\n",
    "The goal of the problem us to count unaligned pairs of bytes in an array.\n",
    "\n",
    "The starting code is \n",
    "```c\n",
    "uint64_t count_pairs(uint8_t *data, uint64_t size, uint8_t target) {\n",
    "  uint64_t total = 0;\n",
    "  for (uint64_t i = 0; i < size - 1; i++) {\n",
    "    if (data[i] == target && data[i + 1] == target) {\n",
    "      total += 1;\n",
    "    }\n",
    "  }\n",
    "  return total;\n",
    "}\n",
    "```\n",
    "\n",
    "\n"
   ]
  },
  {
   "cell_type": "markdown",
   "metadata": {},
   "source": [
    "### Question 3\n",
    "\n",
    "Please achieve 1,000% speedup or more over the reference code and include your code in your submission.\n",
    "\n",
    "You must explain your solution in English as well.  Submissions without a full explanation will not receive points. \n",
    "\n",
    "If you did it using intrinsics then explain your inner loop as you did for the previous problem.  \n",
    "Including: \n",
    " - how does it compute the answer?\n",
    " - how many cycles does it take?\n",
    " - how many iterations of the base loop from the starting code does it compute on each iteration?\n",
    "\n",
    "If you did it without using intrinsics please explain what you did to transform the problem into a form that the compiler could vectorize.\n",
    "\n",
    "Yes, this is a hint that it can be done either with, or without intrinsics\n"
   ]
  }
 ],
 "metadata": {
  "language_info": {
   "name": "python"
  },
  "orig_nbformat": 4
 },
 "nbformat": 4,
 "nbformat_minor": 2
}
