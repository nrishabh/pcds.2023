{
 "cells": [
  {
   "cell_type": "markdown",
   "metadata": {},
   "source": [
    "### Synchronization and Thread Safety\n",
    "\n",
    "Uncontrolled reading and writing of shared variables leads to unpredictable outcomes.  Reading and writing without synchronization leads to __race conditions__ in which computations produce different results depending the order in which threads are executed by the operating system.\n",
    "\n",
    "<img src=\"https://i.stack.imgur.com/m7HYo.png\" width=512 title=\"Race Condition\" />\n",
    "\n",
    "The problem arises because `x = x + 1` is actually multiple operations.  Each thread:\n",
    "\n",
    "```\n",
    "reads value of x for memory\n",
    "updates local copy of x\n",
    "writes local copy to memory\n",
    "```\n",
    "\n",
    "Race conditions lead to bugs when one of the outcomes is undesirable.  It is the job of the programmer to __explicitly order__ operations so that bugs do not arise.\n",
    "\n",
    "__Thread safety__ is the idea that functions can be called from multiple threads concurrently and will produce correct results.  When you synchronize your code, it should be thread safe.\n",
    "\n",
    "We will look at several constructs for synchronization in Java:\n",
    "  * `synchronized` blocks\n",
    "  * the volatile keyword\n",
    "  * `Atomic` variables \n",
    "\n",
    "The most frequent and useful operation is to place a `synchronize` block around racing operations.  This synchronization creates a __critical section__ of code."
   ]
  },
  {
   "cell_type": "markdown",
   "metadata": {},
   "source": [
    "### Synchronizing on Objects versus Classes\n",
    "\n",
    "The parallel pattern used most typically by application programmers is to:\n",
    "* create parallel objects that are members of the same class\n",
    "* run each object in its own thread\n",
    "* `synchronize` on the class\n",
    "   \n",
    "In this case, the threads are all objects in the same class and no two objects of the same class should be running a `critical section` at the same time.  We observe that there is a one-to-one mapping between threads and objects in this class, i.e. each object runs in serial; each object is `single threaded`.\n",
    "\n",
    "_When would you synchronize on an object, not a class?_\n",
    "\n",
    "Consider that you are developing parallel functions that you are expecting to be called concurrenlty by multiple threads. This results in a different pattern.\n",
    "* Multiple threads hold a reference to one object.\n",
    "* Each thread calls parallel functions in their own thread context.\n",
    "\n",
    "In this case, there are multiple threads calling a single object in parallel and the `critical section` needs to be applied on the object, not the class.\n",
    "\n",
    "Any parallel service that performs logging to a single file uses this pattern. For example, an image processing pipepline with multiple steps may parallelize execution on a per image basis.\n",
    "* each thread calls the library with a image file\n",
    "* for each step in the pipeline:\n",
    "    * perform the processing in parallel (no data dependencies)\n",
    "    * in a critical section on the object, log status, progress, and errors to shared log.\n",
    "\n"
   ]
  }
 ],
 "metadata": {
  "kernelspec": {
   "display_name": "Java",
   "language": "java",
   "name": "java"
  },
  "language_info": {
   "codemirror_mode": "java",
   "file_extension": ".jshell",
   "mimetype": "text/x-java-source",
   "name": "Java",
   "pygments_lexer": "java",
   "version": "11.0.6+8-b765.1"
  }
 },
 "nbformat": 4,
 "nbformat_minor": 4
}
