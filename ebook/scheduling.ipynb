{
 "cells": [
  {
   "cell_type": "code",
   "execution_count": null,
   "id": "f952b0c0-d8e6-4076-9659-4079adc6bcef",
   "metadata": {},
   "outputs": [],
   "source": [
    "### Loop Scheduling\n",
    "\n",
    "This is really an aside. I just want you to know that it exists.\n",
    "\n",
    "The full looping directive includes the specification of a scheduling directive and a chunk size\n",
    "```c\n",
    "#pragma omp parallel for schedule(kind [,chunk size])\n",
    "```\n",
    "in which schedule can be one of:\n",
    "* Static -- divide loop into equal sized chunks\n",
    "* Dynamic -- build internal work queue and dispatch blocksize at a time\n",
    "* Guided -- dynamic scheduling with decreasing block size for load balance\n",
    "* Auto -- compiler chooses from above\n",
    "* Runtime -- runtime configuration chooses from above\n"
   ]
  }
 ],
 "metadata": {
  "kernelspec": {
   "display_name": "Python 3 (ipykernel)",
   "language": "python",
   "name": "python3"
  },
  "language_info": {
   "codemirror_mode": {
    "name": "ipython",
    "version": 3
   },
   "file_extension": ".py",
   "mimetype": "text/x-python",
   "name": "python",
   "nbconvert_exporter": "python",
   "pygments_lexer": "ipython3",
   "version": "3.10.9"
  }
 },
 "nbformat": 4,
 "nbformat_minor": 5
}
